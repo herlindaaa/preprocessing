{
  "nbformat": 4,
  "nbformat_minor": 0,
  "metadata": {
    "colab": {
      "provenance": [],
      "authorship_tag": "ABX9TyOeu4ZvPDEFOovmN0HOG2fx",
      "include_colab_link": true
    },
    "kernelspec": {
      "name": "python3",
      "display_name": "Python 3"
    },
    "language_info": {
      "name": "python"
    }
  },
  "cells": [
    {
      "cell_type": "markdown",
      "metadata": {
        "id": "view-in-github",
        "colab_type": "text"
      },
      "source": [
        "<a href=\"https://colab.research.google.com/github/herlindaaa/preprocessing/blob/main/preprocessing.ipynb\" target=\"_parent\"><img src=\"https://colab.research.google.com/assets/colab-badge.svg\" alt=\"Open In Colab\"/></a>"
      ]
    },
    {
      "cell_type": "code",
      "source": [
        "import numpy as np\n",
        "import matplotlib.pyplot as plt\n",
        "import pandas as pd"
      ],
      "metadata": {
        "id": "4AwOtsJQLwIM"
      },
      "execution_count": null,
      "outputs": []
    },
    {
      "cell_type": "code",
      "source": [
        "dataset = pd.read_csv('mxmh_survey_results.csv')\n",
        "X = dataset.iloc[:, :-1].values\n",
        "y = dataset.iloc[:, -1].values"
      ],
      "metadata": {
        "id": "JdrhLfxvL-xH"
      },
      "execution_count": null,
      "outputs": []
    },
    {
      "cell_type": "code",
      "source": [
        "print(X)"
      ],
      "metadata": {
        "colab": {
          "base_uri": "https://localhost:8080/"
        },
        "id": "ZtSkKNrqocEd",
        "outputId": "e242fe7c-6c86-4217-9663-fa5399392bf9"
      },
      "execution_count": null,
      "outputs": [
        {
          "output_type": "stream",
          "name": "stdout",
          "text": [
            "[['8/27/2022 19:29:02' 18.0 'Spotify' ... 1.0 0.0 nan]\n",
            " ['8/27/2022 19:57:31' 63.0 'Pandora' ... 2.0 1.0 nan]\n",
            " ['8/27/2022 21:28:18' 18.0 'Spotify' ... 10.0 2.0 'No effect']\n",
            " ...\n",
            " ['11/3/2022 23:24:38' 19.0 'Other streaming service' ... 2.0 2.0\n",
            "  'Improve']\n",
            " ['11/4/2022 17:31:47' 19.0 'Spotify' ... 2.0 1.0 'Improve']\n",
            " ['11/9/2022 1:55:20' 29.0 'YouTube Music' ... 2.0 5.0 'Improve']]\n"
          ]
        }
      ]
    },
    {
      "cell_type": "code",
      "source": [
        "print(y)"
      ],
      "metadata": {
        "colab": {
          "base_uri": "https://localhost:8080/"
        },
        "id": "L6Os5VzJoe9d",
        "outputId": "694bfc73-ef31-4b6f-9cf5-9dc33055bfca"
      },
      "execution_count": null,
      "outputs": [
        {
          "output_type": "stream",
          "name": "stdout",
          "text": [
            "['I understand.' 'I understand.' 'I understand.' 'I understand.'\n",
            " 'I understand.' 'I understand.' 'I understand.' 'I understand.'\n",
            " 'I understand.' 'I understand.' 'I understand.' 'I understand.'\n",
            " 'I understand.' 'I understand.' 'I understand.' 'I understand.'\n",
            " 'I understand.' 'I understand.' 'I understand.' 'I understand.'\n",
            " 'I understand.' 'I understand.' 'I understand.' 'I understand.'\n",
            " 'I understand.' 'I understand.' 'I understand.' 'I understand.'\n",
            " 'I understand.' 'I understand.' 'I understand.' 'I understand.'\n",
            " 'I understand.' 'I understand.' 'I understand.' 'I understand.'\n",
            " 'I understand.' 'I understand.' 'I understand.' 'I understand.'\n",
            " 'I understand.' 'I understand.' 'I understand.' 'I understand.'\n",
            " 'I understand.' 'I understand.' 'I understand.' 'I understand.'\n",
            " 'I understand.' 'I understand.' 'I understand.' 'I understand.'\n",
            " 'I understand.' 'I understand.' 'I understand.' 'I understand.'\n",
            " 'I understand.' 'I understand.' 'I understand.' 'I understand.'\n",
            " 'I understand.' 'I understand.' 'I understand.' 'I understand.'\n",
            " 'I understand.' 'I understand.' 'I understand.' 'I understand.'\n",
            " 'I understand.' 'I understand.' 'I understand.' 'I understand.'\n",
            " 'I understand.' 'I understand.' 'I understand.' 'I understand.'\n",
            " 'I understand.' 'I understand.' 'I understand.' 'I understand.'\n",
            " 'I understand.' 'I understand.' 'I understand.' 'I understand.'\n",
            " 'I understand.' 'I understand.' 'I understand.' 'I understand.'\n",
            " 'I understand.' 'I understand.' 'I understand.' 'I understand.'\n",
            " 'I understand.' 'I understand.' 'I understand.' 'I understand.'\n",
            " 'I understand.' 'I understand.' 'I understand.' 'I understand.'\n",
            " 'I understand.' 'I understand.' 'I understand.' 'I understand.'\n",
            " 'I understand.' 'I understand.' 'I understand.' 'I understand.'\n",
            " 'I understand.' 'I understand.' 'I understand.' 'I understand.'\n",
            " 'I understand.' 'I understand.' 'I understand.' 'I understand.'\n",
            " 'I understand.' 'I understand.' 'I understand.' 'I understand.'\n",
            " 'I understand.' 'I understand.' 'I understand.' 'I understand.'\n",
            " 'I understand.' 'I understand.' 'I understand.' 'I understand.'\n",
            " 'I understand.' 'I understand.' 'I understand.' 'I understand.'\n",
            " 'I understand.' 'I understand.' 'I understand.' 'I understand.'\n",
            " 'I understand.' 'I understand.' 'I understand.' 'I understand.'\n",
            " 'I understand.' 'I understand.' 'I understand.' 'I understand.'\n",
            " 'I understand.' 'I understand.' 'I understand.' 'I understand.'\n",
            " 'I understand.' 'I understand.' 'I understand.' 'I understand.'\n",
            " 'I understand.' 'I understand.' 'I understand.' 'I understand.'\n",
            " 'I understand.' 'I understand.' 'I understand.' 'I understand.'\n",
            " 'I understand.' 'I understand.' 'I understand.' 'I understand.'\n",
            " 'I understand.' 'I understand.' 'I understand.' 'I understand.'\n",
            " 'I understand.' 'I understand.' 'I understand.' 'I understand.'\n",
            " 'I understand.' 'I understand.' 'I understand.' 'I understand.'\n",
            " 'I understand.' 'I understand.' 'I understand.' 'I understand.'\n",
            " 'I understand.' 'I understand.' 'I understand.' 'I understand.'\n",
            " 'I understand.' 'I understand.' 'I understand.' 'I understand.'\n",
            " 'I understand.' 'I understand.' 'I understand.' 'I understand.'\n",
            " 'I understand.' 'I understand.' 'I understand.' 'I understand.'\n",
            " 'I understand.' 'I understand.' 'I understand.' 'I understand.'\n",
            " 'I understand.' 'I understand.' 'I understand.' 'I understand.'\n",
            " 'I understand.' 'I understand.' 'I understand.' 'I understand.'\n",
            " 'I understand.' 'I understand.' 'I understand.' 'I understand.'\n",
            " 'I understand.' 'I understand.' 'I understand.' 'I understand.'\n",
            " 'I understand.' 'I understand.' 'I understand.' 'I understand.'\n",
            " 'I understand.' 'I understand.' 'I understand.' 'I understand.'\n",
            " 'I understand.' 'I understand.' 'I understand.' 'I understand.'\n",
            " 'I understand.' 'I understand.' 'I understand.' 'I understand.'\n",
            " 'I understand.' 'I understand.' 'I understand.' 'I understand.'\n",
            " 'I understand.' 'I understand.' 'I understand.' 'I understand.'\n",
            " 'I understand.' 'I understand.' 'I understand.' 'I understand.'\n",
            " 'I understand.' 'I understand.' 'I understand.' 'I understand.'\n",
            " 'I understand.' 'I understand.' 'I understand.' 'I understand.'\n",
            " 'I understand.' 'I understand.' 'I understand.' 'I understand.'\n",
            " 'I understand.' 'I understand.' 'I understand.' 'I understand.'\n",
            " 'I understand.' 'I understand.' 'I understand.' 'I understand.'\n",
            " 'I understand.' 'I understand.' 'I understand.' 'I understand.'\n",
            " 'I understand.' 'I understand.' 'I understand.' 'I understand.'\n",
            " 'I understand.' 'I understand.' 'I understand.' 'I understand.'\n",
            " 'I understand.' 'I understand.' 'I understand.' 'I understand.'\n",
            " 'I understand.' 'I understand.' 'I understand.' 'I understand.'\n",
            " 'I understand.' 'I understand.' 'I understand.' 'I understand.'\n",
            " 'I understand.' 'I understand.' 'I understand.' 'I understand.'\n",
            " 'I understand.' 'I understand.' 'I understand.' 'I understand.'\n",
            " 'I understand.' 'I understand.' 'I understand.' 'I understand.'\n",
            " 'I understand.' 'I understand.' 'I understand.' 'I understand.'\n",
            " 'I understand.' 'I understand.' 'I understand.' 'I understand.'\n",
            " 'I understand.' 'I understand.' 'I understand.' 'I understand.'\n",
            " 'I understand.' 'I understand.' 'I understand.' 'I understand.'\n",
            " 'I understand.' 'I understand.' 'I understand.' 'I understand.'\n",
            " 'I understand.' 'I understand.' 'I understand.' 'I understand.'\n",
            " 'I understand.' 'I understand.' 'I understand.' 'I understand.'\n",
            " 'I understand.' 'I understand.' 'I understand.' 'I understand.'\n",
            " 'I understand.' 'I understand.' 'I understand.' 'I understand.'\n",
            " 'I understand.' 'I understand.' 'I understand.' 'I understand.'\n",
            " 'I understand.' 'I understand.' 'I understand.' 'I understand.'\n",
            " 'I understand.' 'I understand.' 'I understand.' 'I understand.'\n",
            " 'I understand.' 'I understand.' 'I understand.' 'I understand.'\n",
            " 'I understand.' 'I understand.' 'I understand.' 'I understand.'\n",
            " 'I understand.' 'I understand.' 'I understand.' 'I understand.'\n",
            " 'I understand.' 'I understand.' 'I understand.' 'I understand.'\n",
            " 'I understand.' 'I understand.' 'I understand.' 'I understand.'\n",
            " 'I understand.' 'I understand.' 'I understand.' 'I understand.'\n",
            " 'I understand.' 'I understand.' 'I understand.' 'I understand.'\n",
            " 'I understand.' 'I understand.' 'I understand.' 'I understand.'\n",
            " 'I understand.' 'I understand.' 'I understand.' 'I understand.'\n",
            " 'I understand.' 'I understand.' 'I understand.' 'I understand.'\n",
            " 'I understand.' 'I understand.' 'I understand.' 'I understand.'\n",
            " 'I understand.' 'I understand.' 'I understand.' 'I understand.'\n",
            " 'I understand.' 'I understand.' 'I understand.' 'I understand.'\n",
            " 'I understand.' 'I understand.' 'I understand.' 'I understand.'\n",
            " 'I understand.' 'I understand.' 'I understand.' 'I understand.'\n",
            " 'I understand.' 'I understand.' 'I understand.' 'I understand.'\n",
            " 'I understand.' 'I understand.' 'I understand.' 'I understand.'\n",
            " 'I understand.' 'I understand.' 'I understand.' 'I understand.'\n",
            " 'I understand.' 'I understand.' 'I understand.' 'I understand.'\n",
            " 'I understand.' 'I understand.' 'I understand.' 'I understand.'\n",
            " 'I understand.' 'I understand.' 'I understand.' 'I understand.'\n",
            " 'I understand.' 'I understand.' 'I understand.' 'I understand.'\n",
            " 'I understand.' 'I understand.' 'I understand.' 'I understand.'\n",
            " 'I understand.' 'I understand.' 'I understand.' 'I understand.'\n",
            " 'I understand.' 'I understand.' 'I understand.' 'I understand.'\n",
            " 'I understand.' 'I understand.' 'I understand.' 'I understand.'\n",
            " 'I understand.' 'I understand.' 'I understand.' 'I understand.'\n",
            " 'I understand.' 'I understand.' 'I understand.' 'I understand.'\n",
            " 'I understand.' 'I understand.' 'I understand.' 'I understand.'\n",
            " 'I understand.' 'I understand.' 'I understand.' 'I understand.'\n",
            " 'I understand.' 'I understand.' 'I understand.' 'I understand.'\n",
            " 'I understand.' 'I understand.' 'I understand.' 'I understand.'\n",
            " 'I understand.' 'I understand.' 'I understand.' 'I understand.'\n",
            " 'I understand.' 'I understand.' 'I understand.' 'I understand.'\n",
            " 'I understand.' 'I understand.' 'I understand.' 'I understand.'\n",
            " 'I understand.' 'I understand.' 'I understand.' 'I understand.'\n",
            " 'I understand.' 'I understand.' 'I understand.' 'I understand.'\n",
            " 'I understand.' 'I understand.' 'I understand.' 'I understand.'\n",
            " 'I understand.' 'I understand.' 'I understand.' 'I understand.'\n",
            " 'I understand.' 'I understand.' 'I understand.' 'I understand.'\n",
            " 'I understand.' 'I understand.' 'I understand.' 'I understand.'\n",
            " 'I understand.' 'I understand.' 'I understand.' 'I understand.'\n",
            " 'I understand.' 'I understand.' 'I understand.' 'I understand.'\n",
            " 'I understand.' 'I understand.' 'I understand.' 'I understand.'\n",
            " 'I understand.' 'I understand.' 'I understand.' 'I understand.'\n",
            " 'I understand.' 'I understand.' 'I understand.' 'I understand.'\n",
            " 'I understand.' 'I understand.' 'I understand.' 'I understand.'\n",
            " 'I understand.' 'I understand.' 'I understand.' 'I understand.'\n",
            " 'I understand.' 'I understand.' 'I understand.' 'I understand.'\n",
            " 'I understand.' 'I understand.' 'I understand.' 'I understand.'\n",
            " 'I understand.' 'I understand.' 'I understand.' 'I understand.'\n",
            " 'I understand.' 'I understand.' 'I understand.' 'I understand.'\n",
            " 'I understand.' 'I understand.' 'I understand.' 'I understand.'\n",
            " 'I understand.' 'I understand.' 'I understand.' 'I understand.'\n",
            " 'I understand.' 'I understand.' 'I understand.' 'I understand.'\n",
            " 'I understand.' 'I understand.' 'I understand.' 'I understand.'\n",
            " 'I understand.' 'I understand.' 'I understand.' 'I understand.'\n",
            " 'I understand.' 'I understand.' 'I understand.' 'I understand.'\n",
            " 'I understand.' 'I understand.' 'I understand.' 'I understand.'\n",
            " 'I understand.' 'I understand.' 'I understand.' 'I understand.'\n",
            " 'I understand.' 'I understand.' 'I understand.' 'I understand.'\n",
            " 'I understand.' 'I understand.' 'I understand.' 'I understand.'\n",
            " 'I understand.' 'I understand.' 'I understand.' 'I understand.'\n",
            " 'I understand.' 'I understand.' 'I understand.' 'I understand.'\n",
            " 'I understand.' 'I understand.' 'I understand.' 'I understand.'\n",
            " 'I understand.' 'I understand.' 'I understand.' 'I understand.'\n",
            " 'I understand.' 'I understand.' 'I understand.' 'I understand.'\n",
            " 'I understand.' 'I understand.' 'I understand.' 'I understand.'\n",
            " 'I understand.' 'I understand.' 'I understand.' 'I understand.'\n",
            " 'I understand.' 'I understand.' 'I understand.' 'I understand.'\n",
            " 'I understand.' 'I understand.' 'I understand.' 'I understand.'\n",
            " 'I understand.' 'I understand.' 'I understand.' 'I understand.'\n",
            " 'I understand.' 'I understand.' 'I understand.' 'I understand.'\n",
            " 'I understand.' 'I understand.' 'I understand.' 'I understand.'\n",
            " 'I understand.' 'I understand.' 'I understand.' 'I understand.'\n",
            " 'I understand.' 'I understand.' 'I understand.' 'I understand.'\n",
            " 'I understand.' 'I understand.' 'I understand.' 'I understand.'\n",
            " 'I understand.' 'I understand.' 'I understand.' 'I understand.'\n",
            " 'I understand.' 'I understand.' 'I understand.' 'I understand.'\n",
            " 'I understand.' 'I understand.' 'I understand.' 'I understand.'\n",
            " 'I understand.' 'I understand.' 'I understand.' 'I understand.'\n",
            " 'I understand.' 'I understand.' 'I understand.' 'I understand.'\n",
            " 'I understand.' 'I understand.' 'I understand.' 'I understand.'\n",
            " 'I understand.' 'I understand.' 'I understand.' 'I understand.'\n",
            " 'I understand.' 'I understand.' 'I understand.' 'I understand.'\n",
            " 'I understand.' 'I understand.' 'I understand.' 'I understand.'\n",
            " 'I understand.' 'I understand.' 'I understand.' 'I understand.'\n",
            " 'I understand.' 'I understand.' 'I understand.' 'I understand.'\n",
            " 'I understand.' 'I understand.' 'I understand.' 'I understand.'\n",
            " 'I understand.' 'I understand.' 'I understand.' 'I understand.'\n",
            " 'I understand.' 'I understand.' 'I understand.' 'I understand.'\n",
            " 'I understand.' 'I understand.' 'I understand.' 'I understand.'\n",
            " 'I understand.' 'I understand.' 'I understand.' 'I understand.'\n",
            " 'I understand.' 'I understand.' 'I understand.' 'I understand.'\n",
            " 'I understand.' 'I understand.' 'I understand.' 'I understand.'\n",
            " 'I understand.' 'I understand.' 'I understand.' 'I understand.'\n",
            " 'I understand.' 'I understand.' 'I understand.' 'I understand.']\n"
          ]
        }
      ]
    },
    {
      "cell_type": "code",
      "source": [
        "from sklearn.impute import SimpleImputer\n",
        "imputer = SimpleImputer(missing_values=np.nan, strategy='mean')\n",
        "imputer.fit(X[:, 1:2])\n",
        "X[:, 1:2] = imputer.transform(X[:, 1:2])"
      ],
      "metadata": {
        "id": "us2GUmxgpG0P"
      },
      "execution_count": null,
      "outputs": []
    },
    {
      "cell_type": "code",
      "source": [
        "print(X)"
      ],
      "metadata": {
        "colab": {
          "base_uri": "https://localhost:8080/"
        },
        "id": "yE8Og77EsC48",
        "outputId": "aa130718-b764-47d2-922f-281d8f196f27"
      },
      "execution_count": null,
      "outputs": [
        {
          "output_type": "stream",
          "name": "stdout",
          "text": [
            "[['8/27/2022 19:29:02' 18.0 'Spotify' ... 1.0 0.0 nan]\n",
            " ['8/27/2022 19:57:31' 63.0 'Pandora' ... 2.0 1.0 nan]\n",
            " ['8/27/2022 21:28:18' 18.0 'Spotify' ... 10.0 2.0 'No effect']\n",
            " ...\n",
            " ['11/3/2022 23:24:38' 19.0 'Other streaming service' ... 2.0 2.0\n",
            "  'Improve']\n",
            " ['11/4/2022 17:31:47' 19.0 'Spotify' ... 2.0 1.0 'Improve']\n",
            " ['11/9/2022 1:55:20' 29.0 'YouTube Music' ... 2.0 5.0 'Improve']]\n"
          ]
        }
      ]
    },
    {
      "cell_type": "code",
      "source": [
        "from sklearn.preprocessing import LabelEncoder\n",
        "le = LabelEncoder()\n",
        "y = le.fit_transform(y)"
      ],
      "metadata": {
        "id": "fTnM1VuVsJmI"
      },
      "execution_count": null,
      "outputs": []
    },
    {
      "cell_type": "code",
      "source": [
        "print(y)"
      ],
      "metadata": {
        "colab": {
          "base_uri": "https://localhost:8080/"
        },
        "id": "jtq2mSHqtJnR",
        "outputId": "32326c36-067f-4c3f-b5ef-fe5128ba9ad4"
      },
      "execution_count": null,
      "outputs": [
        {
          "output_type": "stream",
          "name": "stdout",
          "text": [
            "[0 0 0 0 0 0 0 0 0 0 0 0 0 0 0 0 0 0 0 0 0 0 0 0 0 0 0 0 0 0 0 0 0 0 0 0 0\n",
            " 0 0 0 0 0 0 0 0 0 0 0 0 0 0 0 0 0 0 0 0 0 0 0 0 0 0 0 0 0 0 0 0 0 0 0 0 0\n",
            " 0 0 0 0 0 0 0 0 0 0 0 0 0 0 0 0 0 0 0 0 0 0 0 0 0 0 0 0 0 0 0 0 0 0 0 0 0\n",
            " 0 0 0 0 0 0 0 0 0 0 0 0 0 0 0 0 0 0 0 0 0 0 0 0 0 0 0 0 0 0 0 0 0 0 0 0 0\n",
            " 0 0 0 0 0 0 0 0 0 0 0 0 0 0 0 0 0 0 0 0 0 0 0 0 0 0 0 0 0 0 0 0 0 0 0 0 0\n",
            " 0 0 0 0 0 0 0 0 0 0 0 0 0 0 0 0 0 0 0 0 0 0 0 0 0 0 0 0 0 0 0 0 0 0 0 0 0\n",
            " 0 0 0 0 0 0 0 0 0 0 0 0 0 0 0 0 0 0 0 0 0 0 0 0 0 0 0 0 0 0 0 0 0 0 0 0 0\n",
            " 0 0 0 0 0 0 0 0 0 0 0 0 0 0 0 0 0 0 0 0 0 0 0 0 0 0 0 0 0 0 0 0 0 0 0 0 0\n",
            " 0 0 0 0 0 0 0 0 0 0 0 0 0 0 0 0 0 0 0 0 0 0 0 0 0 0 0 0 0 0 0 0 0 0 0 0 0\n",
            " 0 0 0 0 0 0 0 0 0 0 0 0 0 0 0 0 0 0 0 0 0 0 0 0 0 0 0 0 0 0 0 0 0 0 0 0 0\n",
            " 0 0 0 0 0 0 0 0 0 0 0 0 0 0 0 0 0 0 0 0 0 0 0 0 0 0 0 0 0 0 0 0 0 0 0 0 0\n",
            " 0 0 0 0 0 0 0 0 0 0 0 0 0 0 0 0 0 0 0 0 0 0 0 0 0 0 0 0 0 0 0 0 0 0 0 0 0\n",
            " 0 0 0 0 0 0 0 0 0 0 0 0 0 0 0 0 0 0 0 0 0 0 0 0 0 0 0 0 0 0 0 0 0 0 0 0 0\n",
            " 0 0 0 0 0 0 0 0 0 0 0 0 0 0 0 0 0 0 0 0 0 0 0 0 0 0 0 0 0 0 0 0 0 0 0 0 0\n",
            " 0 0 0 0 0 0 0 0 0 0 0 0 0 0 0 0 0 0 0 0 0 0 0 0 0 0 0 0 0 0 0 0 0 0 0 0 0\n",
            " 0 0 0 0 0 0 0 0 0 0 0 0 0 0 0 0 0 0 0 0 0 0 0 0 0 0 0 0 0 0 0 0 0 0 0 0 0\n",
            " 0 0 0 0 0 0 0 0 0 0 0 0 0 0 0 0 0 0 0 0 0 0 0 0 0 0 0 0 0 0 0 0 0 0 0 0 0\n",
            " 0 0 0 0 0 0 0 0 0 0 0 0 0 0 0 0 0 0 0 0 0 0 0 0 0 0 0 0 0 0 0 0 0 0 0 0 0\n",
            " 0 0 0 0 0 0 0 0 0 0 0 0 0 0 0 0 0 0 0 0 0 0 0 0 0 0 0 0 0 0 0 0 0 0 0 0 0\n",
            " 0 0 0 0 0 0 0 0 0 0 0 0 0 0 0 0 0 0 0 0 0 0 0 0 0 0 0 0 0 0 0 0 0]\n"
          ]
        }
      ]
    },
    {
      "cell_type": "code",
      "source": [
        "from sklearn.model_selection import train_test_split\n",
        "X_train, X_test, y_train, y_test = train_test_split(X, y, test_size = 0.2, random_state = 1)"
      ],
      "metadata": {
        "id": "p1UZoya7tOZh"
      },
      "execution_count": null,
      "outputs": []
    },
    {
      "cell_type": "code",
      "source": [
        "print(X_train)"
      ],
      "metadata": {
        "colab": {
          "base_uri": "https://localhost:8080/"
        },
        "id": "mcI3LNGxthNz",
        "outputId": "a24a3e2f-eb6a-4b5d-cfe4-593d0636d44c"
      },
      "execution_count": null,
      "outputs": [
        {
          "output_type": "stream",
          "name": "stdout",
          "text": [
            "[['9/15/2022 0:33:58' 15.0 'Spotify' ... 5.0 0.0 'No effect']\n",
            " ['8/29/2022 0:50:27' 31.0 'YouTube Music' ... 3.0 0.0 'Improve']\n",
            " ['9/13/2022 7:12:07' 37.0 'Spotify' ... 10.0 2.0 'Worsen']\n",
            " ...\n",
            " ['8/28/2022 14:01:08' 16.0 'Spotify' ... 1.0 2.0 'Improve']\n",
            " ['8/28/2022 22:39:58' 31.0 'Spotify' ... 6.0 5.0 'Improve']\n",
            " ['8/28/2022 11:27:15' 17.0 'Other streaming service' ... 4.0 0.0\n",
            "  'No effect']]\n"
          ]
        }
      ]
    },
    {
      "cell_type": "code",
      "source": [
        "print(X_test)"
      ],
      "metadata": {
        "colab": {
          "base_uri": "https://localhost:8080/"
        },
        "id": "slrZW_eAtmHW",
        "outputId": "c194b124-1d4e-45af-c081-d460e7f98f28"
      },
      "execution_count": null,
      "outputs": [
        {
          "output_type": "stream",
          "name": "stdout",
          "text": [
            "[['8/29/2022 4:36:16' 49.0 'Spotify' ... 2.0 0.0 'No effect']\n",
            " ['8/29/2022 9:47:21' 16.0 'Spotify' ... 0.0 0.0 'Improve']\n",
            " ['8/30/2022 18:15:39' 73.0 'Pandora' ... 0.0 1.0 'Improve']\n",
            " ...\n",
            " ['9/5/2022 21:56:50' 14.0 'Spotify' ... 3.0 0.0 'Worsen']\n",
            " ['8/28/2022 17:40:15' 32.0 'Spotify' ... 2.0 8.0 'Improve']\n",
            " ['9/8/2022 15:06:09' 18.0 'Spotify' ... 2.0 2.0 'Improve']]\n"
          ]
        }
      ]
    },
    {
      "cell_type": "code",
      "source": [
        "print(y_train)"
      ],
      "metadata": {
        "colab": {
          "base_uri": "https://localhost:8080/"
        },
        "id": "jTHgsihvtqmK",
        "outputId": "88da20e5-880c-4a69-ab0c-887e60ca6f91"
      },
      "execution_count": null,
      "outputs": [
        {
          "output_type": "stream",
          "name": "stdout",
          "text": [
            "[0 0 0 0 0 0 0 0 0 0 0 0 0 0 0 0 0 0 0 0 0 0 0 0 0 0 0 0 0 0 0 0 0 0 0 0 0\n",
            " 0 0 0 0 0 0 0 0 0 0 0 0 0 0 0 0 0 0 0 0 0 0 0 0 0 0 0 0 0 0 0 0 0 0 0 0 0\n",
            " 0 0 0 0 0 0 0 0 0 0 0 0 0 0 0 0 0 0 0 0 0 0 0 0 0 0 0 0 0 0 0 0 0 0 0 0 0\n",
            " 0 0 0 0 0 0 0 0 0 0 0 0 0 0 0 0 0 0 0 0 0 0 0 0 0 0 0 0 0 0 0 0 0 0 0 0 0\n",
            " 0 0 0 0 0 0 0 0 0 0 0 0 0 0 0 0 0 0 0 0 0 0 0 0 0 0 0 0 0 0 0 0 0 0 0 0 0\n",
            " 0 0 0 0 0 0 0 0 0 0 0 0 0 0 0 0 0 0 0 0 0 0 0 0 0 0 0 0 0 0 0 0 0 0 0 0 0\n",
            " 0 0 0 0 0 0 0 0 0 0 0 0 0 0 0 0 0 0 0 0 0 0 0 0 0 0 0 0 0 0 0 0 0 0 0 0 0\n",
            " 0 0 0 0 0 0 0 0 0 0 0 0 0 0 0 0 0 0 0 0 0 0 0 0 0 0 0 0 0 0 0 0 0 0 0 0 0\n",
            " 0 0 0 0 0 0 0 0 0 0 0 0 0 0 0 0 0 0 0 0 0 0 0 0 0 0 0 0 0 0 0 0 0 0 0 0 0\n",
            " 0 0 0 0 0 0 0 0 0 0 0 0 0 0 0 0 0 0 0 0 0 0 0 0 0 0 0 0 0 0 0 0 0 0 0 0 0\n",
            " 0 0 0 0 0 0 0 0 0 0 0 0 0 0 0 0 0 0 0 0 0 0 0 0 0 0 0 0 0 0 0 0 0 0 0 0 0\n",
            " 0 0 0 0 0 0 0 0 0 0 0 0 0 0 0 0 0 0 0 0 0 0 0 0 0 0 0 0 0 0 0 0 0 0 0 0 0\n",
            " 0 0 0 0 0 0 0 0 0 0 0 0 0 0 0 0 0 0 0 0 0 0 0 0 0 0 0 0 0 0 0 0 0 0 0 0 0\n",
            " 0 0 0 0 0 0 0 0 0 0 0 0 0 0 0 0 0 0 0 0 0 0 0 0 0 0 0 0 0 0 0 0 0 0 0 0 0\n",
            " 0 0 0 0 0 0 0 0 0 0 0 0 0 0 0 0 0 0 0 0 0 0 0 0 0 0 0 0 0 0 0 0 0 0 0 0 0\n",
            " 0 0 0 0 0 0 0 0 0 0 0 0 0 0 0 0 0 0 0 0 0 0 0 0 0 0 0 0 0 0 0 0 0]\n"
          ]
        }
      ]
    },
    {
      "cell_type": "code",
      "source": [
        "print(y_test)"
      ],
      "metadata": {
        "colab": {
          "base_uri": "https://localhost:8080/"
        },
        "id": "MbfVlFEttuPW",
        "outputId": "8cba4b9f-a8ac-4720-c006-7bd4e43f5fc4"
      },
      "execution_count": null,
      "outputs": [
        {
          "output_type": "stream",
          "name": "stdout",
          "text": [
            "[0 0 0 0 0 0 0 0 0 0 0 0 0 0 0 0 0 0 0 0 0 0 0 0 0 0 0 0 0 0 0 0 0 0 0 0 0\n",
            " 0 0 0 0 0 0 0 0 0 0 0 0 0 0 0 0 0 0 0 0 0 0 0 0 0 0 0 0 0 0 0 0 0 0 0 0 0\n",
            " 0 0 0 0 0 0 0 0 0 0 0 0 0 0 0 0 0 0 0 0 0 0 0 0 0 0 0 0 0 0 0 0 0 0 0 0 0\n",
            " 0 0 0 0 0 0 0 0 0 0 0 0 0 0 0 0 0 0 0 0 0 0 0 0 0 0 0 0 0 0 0 0 0 0 0 0 0]\n"
          ]
        }
      ]
    }
  ]
}